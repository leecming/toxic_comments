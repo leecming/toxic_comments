{
  "cells": [
    {
      "cell_type": "code",
      "execution_count": 3,
      "outputs": [
        {
          "name": "stdout",
          "text": [
            "train csv shape: (159571, 8)\ntrain columns: Index([\u0027id\u0027, \u0027comment_text\u0027, \u0027toxic\u0027, \u0027severe_toxic\u0027, \u0027obscene\u0027, \u0027threat\u0027,\n       \u0027insult\u0027, \u0027identity_hate\u0027],\n      dtype\u003d\u0027object\u0027)\ntest csv shape: (153164, 2)\ntest columns: Index([\u0027id\u0027, \u0027comment_text\u0027], dtype\u003d\u0027object\u0027)\n"
          ],
          "output_type": "stream"
        }
      ],
      "source": "%matplotlib inline\nimport pandas as pd\n\nraw_train_df \u003d pd.read_csv(\u0027../data/train.csv\u0027)\nraw_test_df \u003d pd.read_csv(\u0027../data/test.csv\u0027)\nprint(\u0027train csv shape: {}\u0027.format(raw_train_df.shape))\nprint(\u0027train columns: {}\u0027.format(raw_train_df.columns))\nprint(\u0027test csv shape: {}\u0027.format(raw_test_df.shape))\nprint(\u0027test columns: {}\u0027.format(raw_test_df.columns))\n",
      "metadata": {
        "pycharm": {
          "metadata": false,
          "name": "#%%\n",
          "is_executing": false
        }
      }
    },
    {
      "cell_type": "code",
      "source": "comment_col \u003d \u0027comment_text\u0027\ntarget_cols \u003d [\u0027toxic\u0027, \n               \u0027severe_toxic\u0027,\n               \u0027obscene\u0027,\n               \u0027threat\u0027,\n               \u0027insult\u0027,\n               \u0027identity_hate\u0027]\n# confirm all 0/1 values\nassert all(raw_train_df[target_cols].apply(lambda x: x.unique() \u003d\u003d [0, 1]))\n\nprint(raw_train_df[target_cols].mean().sort_values(ascending\u003dFalse).round(3))\n\n",
      "metadata": {
        "pycharm": {
          "metadata": false,
          "name": "#%% basic checks on target values\n",
          "is_executing": false
        }
      },
      "execution_count": 4,
      "outputs": [
        {
          "name": "stdout",
          "text": [
            "toxic            0.096\nobscene          0.053\ninsult           0.049\nsevere_toxic     0.010\nidentity_hate    0.009\nthreat           0.003\ndtype: float64\n"
          ],
          "output_type": "stream"
        }
      ]
    },
    {
      "cell_type": "code",
      "execution_count": 36,
      "outputs": [
        {
          "name": "stdout",
          "text": [
            "vocab size: 394787\n"
          ],
          "output_type": "stream"
        }
      ],
      "source": "from tensorflow.python.keras.preprocessing.text import Tokenizer\ntokenizer \u003d Tokenizer()\ntrain_test_comment_text \u003d raw_train_df[\u0027comment_text\u0027].append(raw_test_df[\u0027comment_text\u0027]).reset_index(drop\u003dTrue)\ntokenizer.fit_on_texts(train_test_comment_text)\nprint(\u0027vocab size: {}\u0027.format(len(tokenizer.word_index)))\n",
      "metadata": {
        "pycharm": {
          "metadata": false,
          "name": "#%%\n",
          "is_executing": false
        }
      }
    },
    {
      "cell_type": "code",
      "execution_count": 37,
      "outputs": [
        {
          "name": "stdout",
          "text": [
            "0.50      1.0\n0.75      3.0\n0.80      4.0\n0.85      6.0\n0.90     11.0\n0.95     32.0\n0.99    377.0\ndtype: float64\n"
          ],
          "output_type": "stream"
        }
      ],
      "source": "print(pd.Series(tokenizer.word_counts).quantile([0.5, .75, 0.8, 0.85, .9, .95, .99]))\n",
      "metadata": {
        "pycharm": {
          "metadata": false,
          "name": "#%%\n",
          "is_executing": false
        }
      }
    },
    {
      "cell_type": "code",
      "execution_count": 39,
      "outputs": [
        {
          "name": "stdout",
          "text": [
            "0.50     36.0\n0.75     75.0\n0.80     91.0\n0.85    114.0\n0.90    152.0\n0.95    230.0\n0.99    572.0\ndtype: float64\n0.50     30.0\n0.75     65.0\n0.80     79.0\n0.85    100.0\n0.90    133.0\n0.95    209.0\n0.99    561.0\ndtype: float64\n"
          ],
          "output_type": "stream"
        }
      ],
      "source": "tokenizer \u003d Tokenizer(num_words\u003d100000)\ntokenizer.fit_on_texts(train_test_comment_text)\ntrain_sequences \u003d tokenizer.texts_to_sequences(raw_train_df[\u0027comment_text\u0027])\ntest_sequences \u003d tokenizer.texts_to_sequences(raw_test_df[\u0027comment_text\u0027])\nprint(pd.Series([len(x) for x in train_sequences]).quantile([0.5, .75, 0.8, 0.85, .9, .95, .99]))\nprint(pd.Series([len(x) for x in test_sequences]).quantile([0.5, .75, 0.8, 0.85, .9, .95, .99]))\n\n\n",
      "metadata": {
        "pycharm": {
          "metadata": false,
          "name": "#%%\n",
          "is_executing": false
        }
      }
    }
  ],
  "metadata": {
    "language_info": {
      "codemirror_mode": {
        "name": "ipython",
        "version": 2
      },
      "file_extension": ".py",
      "mimetype": "text/x-python",
      "name": "python",
      "nbconvert_exporter": "python",
      "pygments_lexer": "ipython2",
      "version": "2.7.6"
    },
    "kernelspec": {
      "name": "python3",
      "language": "python",
      "display_name": "Python 3"
    },
    "stem_cell": {
      "cell_type": "raw",
      "source": "",
      "metadata": {
        "pycharm": {
          "metadata": false
        }
      }
    }
  },
  "nbformat": 4,
  "nbformat_minor": 0
}